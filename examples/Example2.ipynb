{
 "cells": [
  {
   "cell_type": "markdown",
   "metadata": {},
   "source": [
    "# Example 2\n",
    "\n",
    "Create a workspace without systematics and with signal strengths interpretation of the number of fitted events."
   ]
  },
  {
   "cell_type": "code",
   "execution_count": 1,
   "metadata": {},
   "outputs": [
    {
     "name": "stdout",
     "output_type": "stream",
     "text": [
      "Welcome to JupyROOT 6.14/08\n"
     ]
    }
   ],
   "source": [
    "import countingworkspace\n",
    "from countingworkspace import create_workspace, create_variables\n",
    "import countingworkspace.utils\n",
    "from countingworkspace.examples import NCATEGORIES, NPROCESS, EFFICIENCIES, EXPECTED_BKG_CAT, LUMI, XSECFID_X_BR_PRODUCTION_MODES, NAMES_PROC\n",
    "import ROOT\n",
    "\n",
    "countingworkspace.utils.silence_roofit()"
   ]
  },
  {
   "cell_type": "markdown",
   "metadata": {},
   "source": [
    "Given the number of generated signal events ($T$) for each process $p$, the number of background events $b$ for each category $c$ and the probability ($\\varepsilon$) for an event generated for process $p$ to be reconstructed in category $c$, the number of events recontructed ($R$) for each category $c$ is:\n",
    "\n",
    "$$R_c = \\sum_p(\\varepsilon_{c,p} \\cdot T_p) + b_c$$\n",
    "\n",
    "or in matrix form:\n",
    "\n",
    "$$\\vec R = \\varepsilon \\cdot\\vec T + \\vec b$$\n",
    "\n",
    "Knowing $\\varepsilon$, $R$ and $b$ we want to invert the problem and find $T$. This is done with a maximum likelihood fit since the system of equations is generally overconstrained.\n",
    "\n",
    "This time we want to parametrize $T$ in some way and to fit directly the parameters. The easiest way is with the signal strenghts and the luminosity $L$, e.g.\n",
    "\n",
    "$$\\vec T = L \\vec \\mu \\circ \\vec \\sigma^{SM}$$\n",
    "\n",
    "where $\\sigma^{SM}$ is the cross section times Br predicted by the Standard Model. $\\circ$ is the Hadamard produc (element by element). $\\vec \\mu$ are the free parameters in the fit."
   ]
  },
  {
   "cell_type": "code",
   "execution_count": 4,
   "metadata": {},
   "outputs": [
    {
     "name": "stdout",
     "output_type": "stream",
     "text": [
      "number of categories: 29\n",
      "number of processes: 4\n",
      "background events in each categories: [1.3e+04 4.6e+04 1.9e+04 6.9e+03 6.4e+02 8.0e+01 7.7e+03 4.1e+03 6.9e+02\n",
      " 6.1e+01 2.8e+02 3.5e+01 6.9e+02 3.2e+02 4.7e+02 1.1e+02 6.1e+02 9.8e+00\n",
      " 6.5e+00 9.5e+01 5.3e+00 2.6e+00 5.5e+01 3.3e+01 8.2e+00 1.4e+00 4.7e+00\n",
      " 4.9e+00 2.2e+00]\n",
      "lumi (1/fb): 79.9\n",
      "xsections x Br (fb): [101.5    7.99   4.53   1.33]\n",
      "names proc: ['ggF', 'VBF', 'VH', 'TOP']\n"
     ]
    }
   ],
   "source": [
    "print(\"number of categories: %s\" % NCATEGORIES)\n",
    "print(\"number of processes: %s\" % NPROCESS)\n",
    "print(\"background events in each categories: %s\" % EXPECTED_BKG_CAT)\n",
    "print(\"lumi (1/fb): %s\" % LUMI)\n",
    "print(\"xsections x Br (fb): %s\" % XSECFID_X_BR_PRODUCTION_MODES)\n",
    "print(\"names proc: %s\" % NAMES_PROC)"
   ]
  },
  {
   "cell_type": "code",
   "execution_count": 5,
   "metadata": {},
   "outputs": [
    {
     "name": "stdout",
     "output_type": "stream",
     "text": [
      "[[7.59656034e-02 1.04604628e-02 1.45411863e-02 1.99323973e-04]\n",
      " [1.33594250e-01 2.02726463e-02 3.01054468e-02 4.64708281e-04]\n",
      " [6.32722516e-02 4.93284896e-02 4.10382246e-02 1.61497714e-03]\n",
      " [3.06301561e-02 5.44006917e-02 3.60505886e-02 1.75309571e-03]\n",
      " [5.80297648e-03 1.72063389e-02 1.08921484e-02 7.53345470e-04]\n",
      " [1.47098772e-03 5.09554732e-03 3.25223363e-03 2.83602730e-04]\n",
      " [1.64200334e-02 2.34817187e-02 3.26838551e-02 2.00158007e-02]\n",
      " [1.32634439e-02 2.65507197e-02 2.95846158e-02 2.05596601e-02]\n",
      " [5.41438547e-03 1.15379354e-02 1.34674271e-02 8.45197096e-03]\n",
      " [1.32996028e-03 2.26448816e-03 3.69473056e-03 2.83567831e-03]\n",
      " [1.58368047e-03 3.77259060e-02 7.13420676e-04 5.79753334e-04]\n",
      " [4.11651139e-04 3.59157521e-02 1.52405157e-04 4.01419976e-04]\n",
      " [3.02746026e-03 1.23900366e-02 3.90893629e-03 3.89613886e-03]\n",
      " [2.46153506e-03 3.04511703e-02 3.04539501e-03 6.76058076e-03]\n",
      " [2.55635930e-03 2.54552892e-03 2.21037070e-02 4.43348558e-03]\n",
      " [1.47979591e-03 1.28219234e-03 2.68690187e-02 2.91074073e-03]\n",
      " [2.66557615e-03 1.63703998e-02 1.22851974e-02 1.48447097e-02]\n",
      " [2.57041110e-05 2.15494512e-05 2.94283651e-03 7.85191368e-05]\n",
      " [3.60068642e-06 5.38736280e-06 6.29711955e-03 1.23833767e-03]\n",
      " [1.40949500e-04 1.69701928e-04 2.41122867e-02 1.13397840e-02]\n",
      " [0.00000000e+00 2.69368141e-06 6.37652820e-03 4.38890222e-03]\n",
      " [0.00000000e+00 0.00000000e+00 4.47888247e-03 2.02333534e-04]\n",
      " [1.85504850e-04 3.44791219e-04 2.50041794e-03 3.37407495e-02]\n",
      " [1.03138116e-04 1.48152478e-04 1.54299080e-03 4.93388464e-02]\n",
      " [3.09359056e-05 4.30989025e-05 5.13108171e-04 3.48397110e-02]\n",
      " [1.59986725e-05 2.33452389e-05 3.55199467e-04 4.24037678e-02]\n",
      " [9.96932259e-07 1.79578760e-06 2.80456654e-04 9.79772256e-03]\n",
      " [0.00000000e+00 8.97893801e-07 2.05172909e-04 2.35936513e-02]\n",
      " [0.00000000e+00 0.00000000e+00 1.21035334e-04 4.55973537e-02]]\n"
     ]
    }
   ],
   "source": [
    "print(EFFICIENCIES)           # efficiencies: probability for a particular event for a particular\n",
    "                              # truth-process to be selected in a particulare reco-category"
   ]
  },
  {
   "cell_type": "code",
   "execution_count": 9,
   "metadata": {},
   "outputs": [
    {
     "name": "stdout",
     "output_type": "stream",
     "text": [
      "RooRealVar::xsec_ggF = 101.5 C  L(-INF - +INF) \n",
      "RooRealVar::xsec_VBF = 7.99 C  L(-INF - +INF) \n",
      "RooRealVar::xsec_VH = 4.53 C  L(-INF - +INF) \n",
      "RooRealVar::xsec_TOP = 1.33 C  L(-INF - +INF) \n"
     ]
    }
   ],
   "source": [
    "# first create the parameters needed for the parametrization. The luminosity\n",
    "ws = ROOT.RooWorkspace()\n",
    "ws.factory('lumi[%f]' % LUMI)\n",
    "# and the cross sections:\n",
    "ntrue = create_variables(ws, 'xsec_{proc}',  # {proc} is an index, you can call as you prefer\n",
    "                 #nbins=NPROCESS,            # this is not necessary\n",
    "                 bins=NAMES_PROC,            # the names\n",
    "                 values=XSECFID_X_BR_PRODUCTION_MODES)\n",
    "\n",
    "for l in ntrue:\n",
    "    l.Print()\n",
    "    \n",
    "# we have all the ingredients to define the parametrization"
   ]
  },
  {
   "cell_type": "code",
   "execution_count": 11,
   "metadata": {},
   "outputs": [
    {
     "name": "stderr",
     "output_type": "stream",
     "text": [
      "INFO:root:adding observables for 29 categories\n",
      "INFO:root:adding efficiencies for 29 categories and 4 processes\n",
      "INFO:root:adding expected events for 29 categories and 4 processes\n"
     ]
    },
    {
     "name": "stdout",
     "output_type": "stream",
     "text": [
      "  1) RooAddition::  nexp_cat0 = 13628\n",
      "  2) RooAddition::  nexp_cat1 = 47107.3\n",
      "  3) RooAddition::  nexp_cat2 = 19559.6\n",
      "  4) RooAddition::  nexp_cat3 = 7196.37\n",
      "  5) RooAddition::  nexp_cat4 = 702.068\n",
      "  6) RooAddition::  nexp_cat5 = 96.3898\n",
      "  7) RooAddition::  nexp_cat6 = 7862.11\n",
      "  8) RooAddition::  nexp_cat7 = 4237.41\n",
      "  9) RooAddition::  nexp_cat8 = 747.048\n",
      " 10) RooAddition::  nexp_cat9 = 74.8701\n",
      " 11) RooAddition:: nexp_cat10 = 317.247\n",
      " 12) RooAddition:: nexp_cat11 = 61.3649\n",
      " 13) RooAddition:: nexp_cat12 = 724.291\n",
      " 14) RooAddition:: nexp_cat13 = 361.223\n",
      " 15) RooAddition:: nexp_cat14 = 500.828\n",
      " 16) RooAddition:: nexp_cat15 = 132.854\n",
      " 17) RooAddition:: nexp_cat16 = 648.092\n",
      " 18) RooAddition:: nexp_cat17 = 11.0957\n",
      " 19) RooAddition:: nexp_cat18 = 8.94346\n",
      " 20) RooAddition:: nexp_cat19 = 106.184\n",
      " 21) RooAddition:: nexp_cat20 = 8.07608\n",
      " 22) RooAddition:: nexp_cat21 = 4.24262\n",
      " 23) RooAddition:: nexp_cat22 = 61.2151\n",
      " 24) RooAddition:: nexp_cat23 = 39.7326\n",
      " 25) RooAddition:: nexp_cat24 = 12.3664\n",
      " 26) RooAddition:: nexp_cat25 = 6.17934\n",
      " 27) RooAddition:: nexp_cat26 = 5.85192\n",
      " 28) RooAddition:: nexp_cat27 = 7.48206\n",
      " 29) RooAddition:: nexp_cat28 = 7.0893\n"
     ]
    }
   ],
   "source": [
    "# specify which expression you want to use for the number of generated events (mu * lumi * xsection)\n",
    "# instead of specifying how many generated events we expect, specify its expression\n",
    "create_workspace(NCATEGORIES, NAMES_PROC,\n",
    "                 efficiencies=EFFICIENCIES,\n",
    "                 nexpected_bkg_cat=EXPECTED_BKG_CAT,\n",
    "                 expression_nsignal_gen='prod:nsignal_gen_proc{proc}(mu_{proc}[1, -4, 5], lumi, xsec_{proc})',\n",
    "                 ws=ws)\n",
    "# get the pdf and the observables from the ModelConfig\n",
    "\n",
    "pdf = ws.obj('ModelConfig').GetPdf()\n",
    "obs = ws.obj('ModelConfig').GetObservables()\n",
    "\n",
    "# check the expected yield for each categories\n",
    "ws.set('all_exp').Print('V')"
   ]
  },
  {
   "cell_type": "markdown",
   "metadata": {},
   "source": [
    "## Asimov"
   ]
  },
  {
   "cell_type": "code",
   "execution_count": 12,
   "metadata": {},
   "outputs": [
    {
     "name": "stdout",
     "output_type": "stream",
     "text": [
      "DataStore CountingAsimovData0 (CountingAsimovData0)\n",
      "  Contains 1 entries\n",
      "  Observables: \n",
      "    1)   nobs_cat0 = 13628  L(0 - 100000)  \"nobs_cat0\"\n",
      "    2)   nobs_cat1 = 47107.3  L(0 - 100000)  \"nobs_cat1\"\n",
      "    3)   nobs_cat2 = 19559.6  L(0 - 100000)  \"nobs_cat2\"\n",
      "    4)   nobs_cat3 = 7196.37  L(0 - 100000)  \"nobs_cat3\"\n",
      "    5)   nobs_cat4 = 702.068  L(0 - 100000)  \"nobs_cat4\"\n",
      "    6)   nobs_cat5 = 96.3898  L(0 - 100000)  \"nobs_cat5\"\n",
      "    7)   nobs_cat6 = 7862.11  L(0 - 100000)  \"nobs_cat6\"\n",
      "    8)   nobs_cat7 = 4237.41  L(0 - 100000)  \"nobs_cat7\"\n",
      "    9)   nobs_cat8 = 747.048  L(0 - 100000)  \"nobs_cat8\"\n",
      "   10)   nobs_cat9 = 74.8701  L(0 - 100000)  \"nobs_cat9\"\n",
      "   11)  nobs_cat10 = 317.247  L(0 - 100000)  \"nobs_cat10\"\n",
      "   12)  nobs_cat11 = 61.3649  L(0 - 100000)  \"nobs_cat11\"\n",
      "   13)  nobs_cat12 = 724.291  L(0 - 100000)  \"nobs_cat12\"\n",
      "   14)  nobs_cat13 = 361.223  L(0 - 100000)  \"nobs_cat13\"\n",
      "   15)  nobs_cat14 = 500.828  L(0 - 100000)  \"nobs_cat14\"\n",
      "   16)  nobs_cat15 = 132.854  L(0 - 100000)  \"nobs_cat15\"\n",
      "   17)  nobs_cat16 = 648.092  L(0 - 100000)  \"nobs_cat16\"\n",
      "   18)  nobs_cat17 = 11.0957  L(0 - 100000)  \"nobs_cat17\"\n",
      "   19)  nobs_cat18 = 8.94346  L(0 - 100000)  \"nobs_cat18\"\n",
      "   20)  nobs_cat19 = 106.184  L(0 - 100000)  \"nobs_cat19\"\n",
      "   21)  nobs_cat20 = 8.07608  L(0 - 100000)  \"nobs_cat20\"\n",
      "   22)  nobs_cat21 = 4.24262  L(0 - 100000)  \"nobs_cat21\"\n",
      "   23)  nobs_cat22 = 61.2151  L(0 - 100000)  \"nobs_cat22\"\n",
      "   24)  nobs_cat23 = 39.7326  L(0 - 100000)  \"nobs_cat23\"\n",
      "   25)  nobs_cat24 = 12.3664  L(0 - 100000)  \"nobs_cat24\"\n",
      "   26)  nobs_cat25 = 6.17934  L(0 - 100000)  \"nobs_cat25\"\n",
      "   27)  nobs_cat26 = 5.85192  L(0 - 100000)  \"nobs_cat26\"\n",
      "   28)  nobs_cat27 = 7.48206  L(0 - 100000)  \"nobs_cat27\"\n",
      "   29)  nobs_cat28 = 7.0893  L(0 - 100000)  \"nobs_cat28\"\n"
     ]
    }
   ],
   "source": [
    "# generate the Asimov, the values should be equal to the expected ones\n",
    "\n",
    "data_asimov = ROOT.RooStats.AsymptoticCalculator.GenerateAsimovData(pdf, obs)\n",
    "data_asimov.Print('V')"
   ]
  },
  {
   "cell_type": "code",
   "execution_count": 13,
   "metadata": {},
   "outputs": [
    {
     "name": "stdout",
     "output_type": "stream",
     "text": [
      " **********\n",
      " **    1 **SET PRINT           1\n",
      " **********\n",
      " **********\n",
      " **    2 **SET NOGRAD\n",
      " **********\n",
      " PARAMETER DEFINITIONS:\n",
      "    NO.   NAME         VALUE      STEP SIZE      LIMITS\n",
      "     1 mu_TOP       1.00000e+00  9.00000e-01   -4.00000e+00  5.00000e+00\n",
      "     2 mu_VBF       1.00000e+00  9.00000e-01   -4.00000e+00  5.00000e+00\n",
      "     3 mu_VH        1.00000e+00  9.00000e-01   -4.00000e+00  5.00000e+00\n",
      "     4 mu_ggF       1.00000e+00  9.00000e-01   -4.00000e+00  5.00000e+00\n",
      " **********\n",
      " **    3 **SET ERR         0.5\n",
      " **********\n",
      " **********\n",
      " **    4 **SET PRINT           1\n",
      " **********\n",
      " **********\n",
      " **    5 **SET STR           1\n",
      " **********\n",
      " NOW USING STRATEGY  1: TRY TO BALANCE SPEED AGAINST RELIABILITY\n",
      " **********\n",
      " **    6 **MIGRAD        2000           1\n",
      " **********\n",
      " FIRST CALL TO USER FUNCTION AT NEW START POINT, WITH IFLAG=4.\n",
      " START MIGRAD MINIMIZATION.  STRATEGY  1.  CONVERGENCE WHEN EDM .LT. 1.00e-03\n",
      " FCN=101.271 FROM MIGRAD    STATUS=INITIATE       16 CALLS          17 TOTAL\n",
      "                     EDM= unknown      STRATEGY= 1      NO ERROR MATRIX       \n",
      "  EXT PARAMETER               CURRENT GUESS       STEP         FIRST   \n",
      "  NO.   NAME      VALUE            ERROR          SIZE      DERIVATIVE \n",
      "   1  mu_TOP       1.00000e+00   9.00000e-01   2.02684e-01  -4.31020e-05\n",
      "   2  mu_VBF       1.00000e+00   9.00000e-01   2.02684e-01  -2.26419e-05\n",
      "   3  mu_VH        1.00000e+00   9.00000e-01   2.02684e-01  -1.61189e-05\n",
      "   4  mu_ggF       1.00000e+00   9.00000e-01   2.02684e-01  -8.86064e-06\n",
      "                               ERR DEF= 0.5\n",
      " MIGRAD MINIMIZATION HAS CONVERGED.\n",
      " MIGRAD WILL VERIFY CONVERGENCE AND ERROR MATRIX.\n",
      " COVARIANCE MATRIX CALCULATED SUCCESSFULLY\n",
      " FCN=101.271 FROM MIGRAD    STATUS=CONVERGED      66 CALLS          67 TOTAL\n",
      "                     EDM=2.17224e-11    STRATEGY= 1      ERROR MATRIX ACCURATE \n",
      "  EXT PARAMETER                                   STEP         FIRST   \n",
      "  NO.   NAME      VALUE            ERROR          SIZE      DERIVATIVE \n",
      "   1  mu_TOP       1.00000e+00   3.23131e-01   5.00483e-04   5.16872e-05\n",
      "   2  mu_VBF       1.00000e+00   2.94557e-01   4.42143e-04   3.02401e-05\n",
      "   3  mu_VH        1.00000e+00   5.32127e-01   8.03102e-04   2.31647e-05\n",
      "   4  mu_ggF       1.00000e+00   1.09642e-01   1.60720e-04   5.29166e-05\n",
      "                               ERR DEF= 0.5\n",
      " EXTERNAL ERROR MATRIX.    NDIM=  25    NPAR=  4    ERR DEF=0.5\n",
      "  1.046e-01 -5.433e-04 -1.917e-02  1.004e-04 \n",
      " -5.433e-04  8.689e-02 -4.791e-03 -8.239e-03 \n",
      " -1.917e-02 -4.791e-03  2.845e-01 -1.250e-02 \n",
      "  1.004e-04 -8.239e-03 -1.250e-02  1.202e-02 \n",
      " PARAMETER  CORRELATION COEFFICIENTS  \n",
      "       NO.  GLOBAL      1      2      3      4\n",
      "        1  0.11421   1.000 -0.006 -0.111  0.003\n",
      "        2  0.26975  -0.006  1.000 -0.030 -0.255\n",
      "        3  0.25632  -0.111 -0.030  1.000 -0.214\n",
      "        4  0.33856   0.003 -0.255 -0.214  1.000\n",
      " **********\n",
      " **    7 **SET ERR         0.5\n",
      " **********\n",
      " **********\n",
      " **    8 **SET PRINT           1\n",
      " **********\n",
      " **********\n",
      " **    9 **HESSE        2000\n",
      " **********\n",
      " COVARIANCE MATRIX CALCULATED SUCCESSFULLY\n",
      " FCN=101.271 FROM HESSE     STATUS=OK             29 CALLS          96 TOTAL\n",
      "                     EDM=2.46569e-11    STRATEGY= 1      ERROR MATRIX ACCURATE \n",
      "  EXT PARAMETER                                INTERNAL      INTERNAL  \n",
      "  NO.   NAME      VALUE            ERROR       STEP SIZE       VALUE   \n",
      "   1  mu_TOP       1.00000e+00   3.22505e-01   2.00193e-05   1.11341e-01\n",
      "   2  mu_VBF       1.00000e+00   2.94230e-01   1.76857e-05   1.11341e-01\n",
      "   3  mu_VH        1.00000e+00   5.31656e-01   3.21241e-05   1.11341e-01\n",
      "   4  mu_ggF       1.00000e+00   1.09629e-01   3.21439e-05   1.11341e-01\n",
      "                               ERR DEF= 0.5\n",
      " EXTERNAL ERROR MATRIX.    NDIM=  25    NPAR=  4    ERR DEF=0.5\n",
      "  1.042e-01 -4.084e-04 -1.877e-02  7.279e-05 \n",
      " -4.084e-04  8.670e-02 -4.651e-03 -8.224e-03 \n",
      " -1.877e-02 -4.651e-03  2.840e-01 -1.249e-02 \n",
      "  7.279e-05 -8.224e-03 -1.249e-02  1.202e-02 \n",
      " PARAMETER  CORRELATION COEFFICIENTS  \n",
      "       NO.  GLOBAL      1      2      3      4\n",
      "        1  0.11211   1.000 -0.004 -0.109  0.002\n",
      "        2  0.26923  -0.004  1.000 -0.030 -0.255\n",
      "        3  0.25525  -0.109 -0.030  1.000 -0.214\n",
      "        4  0.33834   0.002 -0.255 -0.214  1.000\n"
     ]
    }
   ],
   "source": [
    "# fit the pdf with the Asimov dataset\n",
    "fr = pdf.fitTo(data_asimov, ROOT.RooFit.Save())"
   ]
  },
  {
   "cell_type": "code",
   "execution_count": 14,
   "metadata": {},
   "outputs": [
    {
     "name": "stdout",
     "output_type": "stream",
     "text": [
      "\n",
      "  RooFitResult: minimized FCN value: 101.271, estimated distance to minimum: 2.46569e-11\n",
      "                covariance matrix quality: Full, accurate covariance matrix\n",
      "                Status : MINIMIZE=0 HESSE=0 \n",
      "\n",
      "    Floating Parameter    FinalValue +/-  Error   \n",
      "  --------------------  --------------------------\n",
      "                mu_TOP    1.0000e+00 +/-  3.23e-01\n",
      "                mu_VBF    1.0000e+00 +/-  2.94e-01\n",
      "                 mu_VH    1.0000e+00 +/-  5.32e-01\n",
      "                mu_ggF    1.0000e+00 +/-  1.10e-01\n",
      "\n"
     ]
    }
   ],
   "source": [
    "# print the results\n",
    "fr.Print()"
   ]
  },
  {
   "cell_type": "code",
   "execution_count": 18,
   "metadata": {},
   "outputs": [
    {
     "data": {
      "image/png": "[encoded data removed]",
      "text/plain": [
       "<IPython.core.display.Image object>"
      ]
     },
     "metadata": {},
     "output_type": "display_data"
    }
   ],
   "source": [
    "canvas = ROOT.TCanvas()\n",
    "plot = ws.obj('mu_ggF').frame()\n",
    "fr.plotOn(plot, 'mu_ggF', 'mu_VBF')\n",
    "plot.Draw()\n",
    "canvas.Draw()"
   ]
  }
 ],
 "metadata": {
  "kernelspec": {
   "display_name": "Python 3",
   "language": "python",
   "name": "python3"
  },
  "language_info": {
   "codemirror_mode": {
    "name": "ipython",
    "version": 3
   },
   "file_extension": ".py",
   "mimetype": "text/x-python",
   "name": "python",
   "nbconvert_exporter": "python",
   "pygments_lexer": "ipython3",
   "version": "3.7.1"
  }
 },
 "nbformat": 4,
 "nbformat_minor": 2
}
