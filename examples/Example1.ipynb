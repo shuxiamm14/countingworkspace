{
 "cells": [
  {
   "cell_type": "markdown",
   "metadata": {},
   "source": [
    "# Example 1\n",
    "\n",
    "Create a simple workspace with a very specialized method and run toys.\n",
    "\n",
    "See also the script `submit.condor` to submit to HT Condor.\n",
    "e.g. on lxplus just run\n",
    "\n",
    "    condor_submit submit.condor"
   ]
  },
  {
   "cell_type": "code",
   "execution_count": 1,
   "metadata": {},
   "outputs": [
    {
     "name": "stdout",
     "output_type": "stream",
     "text": [
      "Welcome to JupyROOT 6.14/04\n"
     ]
    }
   ],
   "source": [
    "from countingworkspace import create_workspace\n",
    "import countingworkspace.utils\n",
    "from countingworkspace.examples import NCATEGORIES, NPROCESS, NTRUE, EFFICIENCIES, EXPECTED_BKG_CAT\n",
    "import ROOT\n",
    "\n",
    "countingworkspace.utils.silence_roofit()"
   ]
  },
  {
   "cell_type": "code",
   "execution_count": 2,
   "metadata": {},
   "outputs": [
    {
     "name": "stdout",
     "output_type": "stream",
     "text": [
      "29\n",
      "4\n",
      "[1.3e+04 4.6e+04 1.9e+04 6.9e+03 6.4e+02 8.0e+01 7.7e+03 4.1e+03 6.9e+02\n",
      " 6.1e+01 2.8e+02 3.5e+01 6.9e+02 3.2e+02 4.7e+02 1.1e+02 6.1e+02 9.8e+00\n",
      " 6.5e+00 9.5e+01 5.3e+00 2.6e+00 5.5e+01 3.3e+01 8.2e+00 1.4e+00 4.7e+00\n",
      " 4.9e+00 2.2e+00]\n",
      "[8109.85   638.401  361.947  106.267]\n"
     ]
    }
   ],
   "source": [
    "print(NCATEGORIES)            # number of reco-categories\n",
    "print(NPROCESS)               # number of truth-processes\n",
    "print(EXPECTED_BKG_CAT)       # number of background events selected in the reco-categories\n",
    "print(NTRUE)                  # number of signal events at truth level"
   ]
  },
  {
   "cell_type": "code",
   "execution_count": 3,
   "metadata": {},
   "outputs": [
    {
     "name": "stdout",
     "output_type": "stream",
     "text": [
      "[[7.59656034e-02 1.04604628e-02 1.45411863e-02 1.99323973e-04]\n",
      " [1.33594250e-01 2.02726463e-02 3.01054468e-02 4.64708281e-04]\n",
      " [6.32722516e-02 4.93284896e-02 4.10382246e-02 1.61497714e-03]\n",
      " [3.06301561e-02 5.44006917e-02 3.60505886e-02 1.75309571e-03]\n",
      " [5.80297648e-03 1.72063389e-02 1.08921484e-02 7.53345470e-04]\n",
      " [1.47098772e-03 5.09554732e-03 3.25223363e-03 2.83602730e-04]\n",
      " [1.64200334e-02 2.34817187e-02 3.26838551e-02 2.00158007e-02]\n",
      " [1.32634439e-02 2.65507197e-02 2.95846158e-02 2.05596601e-02]\n",
      " [5.41438547e-03 1.15379354e-02 1.34674271e-02 8.45197096e-03]\n",
      " [1.32996028e-03 2.26448816e-03 3.69473056e-03 2.83567831e-03]\n",
      " [1.58368047e-03 3.77259060e-02 7.13420676e-04 5.79753334e-04]\n",
      " [4.11651139e-04 3.59157521e-02 1.52405157e-04 4.01419976e-04]\n",
      " [3.02746026e-03 1.23900366e-02 3.90893629e-03 3.89613886e-03]\n",
      " [2.46153506e-03 3.04511703e-02 3.04539501e-03 6.76058076e-03]\n",
      " [2.55635930e-03 2.54552892e-03 2.21037070e-02 4.43348558e-03]\n",
      " [1.47979591e-03 1.28219234e-03 2.68690187e-02 2.91074073e-03]\n",
      " [2.66557615e-03 1.63703998e-02 1.22851974e-02 1.48447097e-02]\n",
      " [2.57041110e-05 2.15494512e-05 2.94283651e-03 7.85191368e-05]\n",
      " [3.60068642e-06 5.38736280e-06 6.29711955e-03 1.23833767e-03]\n",
      " [1.40949500e-04 1.69701928e-04 2.41122867e-02 1.13397840e-02]\n",
      " [0.00000000e+00 2.69368141e-06 6.37652820e-03 4.38890222e-03]\n",
      " [0.00000000e+00 0.00000000e+00 4.47888247e-03 2.02333534e-04]\n",
      " [1.85504850e-04 3.44791219e-04 2.50041794e-03 3.37407495e-02]\n",
      " [1.03138116e-04 1.48152478e-04 1.54299080e-03 4.93388464e-02]\n",
      " [3.09359056e-05 4.30989025e-05 5.13108171e-04 3.48397110e-02]\n",
      " [1.59986725e-05 2.33452389e-05 3.55199467e-04 4.24037678e-02]\n",
      " [9.96932259e-07 1.79578760e-06 2.80456654e-04 9.79772256e-03]\n",
      " [0.00000000e+00 8.97893801e-07 2.05172909e-04 2.35936513e-02]\n",
      " [0.00000000e+00 0.00000000e+00 1.21035334e-04 4.55973537e-02]]\n"
     ]
    }
   ],
   "source": [
    "print(EFFICIENCIES)           # efficiencies: probability for a particular event for a particular\n",
    "                              # truth-process to be selected in a particulare reco-category"
   ]
  },
  {
   "cell_type": "code",
   "execution_count": 4,
   "metadata": {},
   "outputs": [
    {
     "name": "stderr",
     "output_type": "stream",
     "text": [
      "INFO:root:adding observables for 29 categories\n",
      "INFO:root:adding efficiencies for 29 categories and 4 processes\n",
      "INFO:root:adding expected events for 29 categories and 4 processes\n"
     ]
    },
    {
     "name": "stdout",
     "output_type": "stream",
     "text": [
      "  1) RooAddition::  nexp_cat0 = 13628\n",
      "  2) RooAddition::  nexp_cat1 = 47107.3\n",
      "  3) RooAddition::  nexp_cat2 = 19559.6\n",
      "  4) RooAddition::  nexp_cat3 = 7196.37\n",
      "  5) RooAddition::  nexp_cat4 = 702.068\n",
      "  6) RooAddition::  nexp_cat5 = 96.3898\n",
      "  7) RooAddition::  nexp_cat6 = 7862.11\n",
      "  8) RooAddition::  nexp_cat7 = 4237.41\n",
      "  9) RooAddition::  nexp_cat8 = 747.048\n",
      " 10) RooAddition::  nexp_cat9 = 74.8701\n",
      " 11) RooAddition:: nexp_cat10 = 317.247\n",
      " 12) RooAddition:: nexp_cat11 = 61.3649\n",
      " 13) RooAddition:: nexp_cat12 = 724.291\n",
      " 14) RooAddition:: nexp_cat13 = 361.223\n",
      " 15) RooAddition:: nexp_cat14 = 500.828\n",
      " 16) RooAddition:: nexp_cat15 = 132.854\n",
      " 17) RooAddition:: nexp_cat16 = 648.092\n",
      " 18) RooAddition:: nexp_cat17 = 11.0957\n",
      " 19) RooAddition:: nexp_cat18 = 8.94346\n",
      " 20) RooAddition:: nexp_cat19 = 106.184\n",
      " 21) RooAddition:: nexp_cat20 = 8.07608\n",
      " 22) RooAddition:: nexp_cat21 = 4.24262\n",
      " 23) RooAddition:: nexp_cat22 = 61.2151\n",
      " 24) RooAddition:: nexp_cat23 = 39.7326\n",
      " 25) RooAddition:: nexp_cat24 = 12.3664\n",
      " 26) RooAddition:: nexp_cat25 = 6.17934\n",
      " 27) RooAddition:: nexp_cat26 = 5.85192\n",
      " 28) RooAddition:: nexp_cat27 = 7.48206\n",
      " 29) RooAddition:: nexp_cat28 = 7.0893\n"
     ]
    }
   ],
   "source": [
    "# generate the workspace\n",
    "ws = create_workspace(NCATEGORIES, NPROCESS, NTRUE, EFFICIENCIES, EXPECTED_BKG_CAT)\n",
    "\n",
    "# get the pdf and the observables from the ModelConfig\n",
    "\n",
    "pdf = ws.obj('ModelConfig').GetPdf()\n",
    "obs = ws.obj('ModelConfig').GetObservables()\n",
    "\n",
    "# check the expected yield for each categories\n",
    "ws.set('all_exp').Print('V')"
   ]
  },
  {
   "cell_type": "markdown",
   "metadata": {},
   "source": [
    "## Asimov"
   ]
  },
  {
   "cell_type": "code",
   "execution_count": 5,
   "metadata": {},
   "outputs": [
    {
     "name": "stdout",
     "output_type": "stream",
     "text": [
      "DataStore CountingAsimovData0 (CountingAsimovData0)\n",
      "  Contains 1 entries\n",
      "  Observables: \n",
      "    1)   nobs_cat0 = 13628  L(0 - 100000)  \"nobs_cat0\"\n",
      "    2)   nobs_cat1 = 47107.3  L(0 - 100000)  \"nobs_cat1\"\n",
      "    3)   nobs_cat2 = 19559.6  L(0 - 100000)  \"nobs_cat2\"\n",
      "    4)   nobs_cat3 = 7196.37  L(0 - 100000)  \"nobs_cat3\"\n",
      "    5)   nobs_cat4 = 702.068  L(0 - 100000)  \"nobs_cat4\"\n",
      "    6)   nobs_cat5 = 96.3898  L(0 - 100000)  \"nobs_cat5\"\n",
      "    7)   nobs_cat6 = 7862.11  L(0 - 100000)  \"nobs_cat6\"\n",
      "    8)   nobs_cat7 = 4237.41  L(0 - 100000)  \"nobs_cat7\"\n",
      "    9)   nobs_cat8 = 747.048  L(0 - 100000)  \"nobs_cat8\"\n",
      "   10)   nobs_cat9 = 74.8701  L(0 - 100000)  \"nobs_cat9\"\n",
      "   11)  nobs_cat10 = 317.247  L(0 - 100000)  \"nobs_cat10\"\n",
      "   12)  nobs_cat11 = 61.3649  L(0 - 100000)  \"nobs_cat11\"\n",
      "   13)  nobs_cat12 = 724.291  L(0 - 100000)  \"nobs_cat12\"\n",
      "   14)  nobs_cat13 = 361.223  L(0 - 100000)  \"nobs_cat13\"\n",
      "   15)  nobs_cat14 = 500.828  L(0 - 100000)  \"nobs_cat14\"\n",
      "   16)  nobs_cat15 = 132.854  L(0 - 100000)  \"nobs_cat15\"\n",
      "   17)  nobs_cat16 = 648.092  L(0 - 100000)  \"nobs_cat16\"\n",
      "   18)  nobs_cat17 = 11.0957  L(0 - 100000)  \"nobs_cat17\"\n",
      "   19)  nobs_cat18 = 8.94346  L(0 - 100000)  \"nobs_cat18\"\n",
      "   20)  nobs_cat19 = 106.184  L(0 - 100000)  \"nobs_cat19\"\n",
      "   21)  nobs_cat20 = 8.07608  L(0 - 100000)  \"nobs_cat20\"\n",
      "   22)  nobs_cat21 = 4.24262  L(0 - 100000)  \"nobs_cat21\"\n",
      "   23)  nobs_cat22 = 61.2151  L(0 - 100000)  \"nobs_cat22\"\n",
      "   24)  nobs_cat23 = 39.7326  L(0 - 100000)  \"nobs_cat23\"\n",
      "   25)  nobs_cat24 = 12.3664  L(0 - 100000)  \"nobs_cat24\"\n",
      "   26)  nobs_cat25 = 6.17934  L(0 - 100000)  \"nobs_cat25\"\n",
      "   27)  nobs_cat26 = 5.85192  L(0 - 100000)  \"nobs_cat26\"\n",
      "   28)  nobs_cat27 = 7.48206  L(0 - 100000)  \"nobs_cat27\"\n",
      "   29)  nobs_cat28 = 7.0893  L(0 - 100000)  \"nobs_cat28\"\n"
     ]
    }
   ],
   "source": [
    "# generate the Asimov, the values should be equal to the expected ones\n",
    "\n",
    "data_asimov = ROOT.RooStats.AsymptoticCalculator.GenerateAsimovData(pdf, obs)\n",
    "data_asimov.Print('V')"
   ]
  },
  {
   "cell_type": "code",
   "execution_count": 6,
   "metadata": {},
   "outputs": [
    {
     "name": "stdout",
     "output_type": "stream",
     "text": [
      " **********\n",
      " **    1 **SET PRINT           1\n",
      " **********\n",
      " **********\n",
      " **    2 **SET NOGRAD\n",
      " **********\n",
      " PARAMETER DEFINITIONS:\n",
      "    NO.   NAME         VALUE      STEP SIZE      LIMITS\n",
      "     1 nsignal_gen_proc0   8.10985e+03  6.00000e+03   -1.00000e+04  5.00000e+04\n",
      "     2 nsignal_gen_proc1   6.38401e+02  5.31920e+03   -1.00000e+04  5.00000e+04\n",
      "     3 nsignal_gen_proc2   3.61947e+02  5.18097e+03   -1.00000e+04  5.00000e+04\n",
      "     4 nsignal_gen_proc3   1.06267e+02  5.05313e+03   -1.00000e+04  5.00000e+04\n",
      " **********\n",
      " **    3 **SET ERR         0.5\n",
      " **********\n",
      " **********\n",
      " **    4 **SET PRINT           1\n",
      " **********\n",
      " **********\n",
      " **    5 **SET STR           1\n",
      " **********\n",
      " NOW USING STRATEGY  1: TRY TO BALANCE SPEED AGAINST RELIABILITY\n",
      " **********\n",
      " **    6 **MIGRAD        2000           1\n",
      " **********\n",
      " FIRST CALL TO USER FUNCTION AT NEW START POINT, WITH IFLAG=4.\n",
      " START MIGRAD MINIMIZATION.  STRATEGY  1.  CONVERGENCE WHEN EDM .LT. 1.00e-03\n",
      " FCN=101.271 FROM MIGRAD    STATUS=INITIATE       22 CALLS          23 TOTAL\n",
      "                     EDM= unknown      STRATEGY= 1      NO ERROR MATRIX       \n",
      "  EXT PARAMETER               CURRENT GUESS       STEP         FIRST   \n",
      "  NO.   NAME      VALUE            ERROR          SIZE      DERIVATIVE \n",
      "   1  nsignal_gen_proc0   8.10985e+03   6.00000e+03   2.20655e-01   9.20855e-06\n",
      "   2  nsignal_gen_proc1   6.38401e+02   5.31920e+03   2.39508e-01  -1.39042e-04\n",
      "   3  nsignal_gen_proc2   3.61947e+02   5.18097e+03   2.35730e-01  -1.68083e-04\n",
      "   4  nsignal_gen_proc3   1.06267e+02   5.05313e+03   2.32220e-01  -9.07401e-03\n",
      "                               ERR DEF= 0.5\n",
      " MIGRAD FAILS TO FIND IMPROVEMENT\n",
      " COVARIANCE MATRIX CALCULATED SUCCESSFULLY\n",
      " FCN=101.271 FROM HESSE     STATUS=OK             31 CALLS          55 TOTAL\n",
      "                     EDM=1.59862e-13    STRATEGY= 1      ERROR MATRIX ACCURATE \n",
      "  EXT PARAMETER                                   STEP         FIRST   \n",
      "  NO.   NAME      VALUE            ERROR          SIZE      DERIVATIVE \n",
      "   1  nsignal_gen_proc0   8.10985e+03   8.89134e+02   2.20655e-04  -2.61316e-06\n",
      "   2  nsignal_gen_proc1   6.38401e+02   1.88182e+02   5.50855e-05  -3.68264e-06\n",
      "   3  nsignal_gen_proc2   3.61947e+02   1.93057e+02   5.73194e-05  -5.02666e-06\n",
      "   4  nsignal_gen_proc3   1.06267e+02   3.43679e+01   2.32220e-05  -3.68491e-04\n",
      "                               ERR DEF= 0.5\n",
      " MIGRAD MINIMIZATION HAS CONVERGED.\n",
      " FCN=101.271 FROM MIGRAD    STATUS=CONVERGED      63 CALLS          64 TOTAL\n",
      "                     EDM=2.70926e-12    STRATEGY= 1  ERROR MATRIX UNCERTAINTY   0.9 per cent\n",
      "  EXT PARAMETER                                   STEP         FIRST   \n",
      "  NO.   NAME      VALUE            ERROR          SIZE      DERIVATIVE \n",
      "   1  nsignal_gen_proc0   8.10985e+03   8.76277e+02   2.23140e-09   4.10803e-06\n",
      "   2  nsignal_gen_proc1   6.38401e+02   1.87357e+02   3.45855e-11  -1.89420e-05\n",
      "   3  nsignal_gen_proc2   3.61947e+02   1.92903e+02  -3.30381e-10  -2.17203e-05\n",
      "   4  nsignal_gen_proc3   1.06267e+02   1.84776e+01   8.55996e-10  -1.52181e-03\n",
      "                               ERR DEF= 0.5\n",
      " EXTERNAL ERROR MATRIX.    NDIM=  25    NPAR=  4    ERR DEF=0.5\n",
      "  7.681e+05 -4.030e+04 -3.639e+04  3.497e+03 \n",
      " -4.030e+04  3.510e+04 -1.079e+03 -6.466e+02 \n",
      " -3.639e+04 -1.079e+03  3.721e+04 -5.463e+02 \n",
      "  3.497e+03 -6.466e+02 -5.463e+02 -3.414e+02 \n",
      " PARAMETER  CORRELATION COEFFICIENTS  \n",
      "       NO.  GLOBAL      1      2      3      4\n",
      "        1  0.00000   1.000 -0.245 -0.215  0.216\n",
      "        2  0.00000  -0.245  1.000 -0.030 -0.187\n",
      "        3  0.00000  -0.215 -0.030  1.000 -0.153\n",
      "        4  0.00000   0.216 -0.187 -0.153 -1.000\n",
      " **********\n",
      " **    7 **SET ERR         0.5\n",
      " **********\n",
      " **********\n",
      " **    8 **SET PRINT           1\n",
      " **********\n",
      " **********\n",
      " **    9 **HESSE        2000\n",
      " **********\n",
      " COVARIANCE MATRIX CALCULATED SUCCESSFULLY\n",
      " FCN=101.271 FROM HESSE     STATUS=OK             31 CALLS          95 TOTAL\n",
      "                     EDM=6.17926e-13    STRATEGY= 1      ERROR MATRIX ACCURATE \n",
      "  EXT PARAMETER                                INTERNAL      INTERNAL  \n",
      "  NO.   NAME      VALUE            ERROR       STEP SIZE       VALUE   \n",
      "   1  nsignal_gen_proc0   8.10985e+03   8.89137e+02   8.82619e-05  -4.07525e-01\n",
      "   2  nsignal_gen_proc1   6.38401e+02   1.88182e+02   2.20342e-05  -7.01529e-01\n",
      "   3  nsignal_gen_proc2   3.61947e+02   1.93059e+02   2.29278e-05  -7.13656e-01\n",
      "   4  nsignal_gen_proc3   1.06267e+02   3.43682e+01   1.05921e-05  -7.24985e-01\n",
      "                               ERR DEF= 0.5\n",
      " EXTERNAL ERROR MATRIX.    NDIM=  25    NPAR=  4    ERR DEF=0.5\n",
      "  7.908e+05 -4.267e+04 -3.669e+04  8.658e+01 \n",
      " -4.267e+04  3.541e+04 -1.107e+03 -3.686e+01 \n",
      " -3.669e+04 -1.107e+03  3.727e+04 -7.376e+02 \n",
      "  8.658e+01 -3.686e+01 -7.376e+02  1.181e+03 \n",
      " PARAMETER  CORRELATION COEFFICIENTS  \n",
      "       NO.  GLOBAL      1      2      3      4\n",
      "        1  0.33861   1.000 -0.255 -0.214  0.003\n",
      "        2  0.26979  -0.255  1.000 -0.030 -0.006\n",
      "        3  0.25637  -0.214 -0.030  1.000 -0.111\n",
      "        4  0.11425   0.003 -0.006 -0.111  1.000\n"
     ]
    }
   ],
   "source": [
    "# fit the pdf with the Asimov dataset\n",
    "fr = pdf.fitTo(data_asimov, ROOT.RooFit.Save())"
   ]
  },
  {
   "cell_type": "code",
   "execution_count": 7,
   "metadata": {},
   "outputs": [
    {
     "name": "stdout",
     "output_type": "stream",
     "text": [
      "\n",
      "  RooFitResult: minimized FCN value: 101.271, estimated distance to minimum: 6.17926e-13\n",
      "                covariance matrix quality: Full, accurate covariance matrix\n",
      "                Status : MINIMIZE=0 HESSE=0 \n",
      "\n",
      "    Floating Parameter    FinalValue +/-  Error   \n",
      "  --------------------  --------------------------\n",
      "     nsignal_gen_proc0    8.1099e+03 +/-  8.89e+02\n",
      "     nsignal_gen_proc1    6.3840e+02 +/-  1.88e+02\n",
      "     nsignal_gen_proc2    3.6195e+02 +/-  1.93e+02\n",
      "     nsignal_gen_proc3    1.0627e+02 +/-  3.44e+01\n",
      "\n"
     ]
    }
   ],
   "source": [
    "# print the results\n",
    "fr.Print()"
   ]
  },
  {
   "cell_type": "code",
   "execution_count": 8,
   "metadata": {},
   "outputs": [
    {
     "data": {
      "image/png": "[encoded data removed]",
      "text/plain": [
       "<IPython.core.display.Image object>"
      ]
     },
     "metadata": {},
     "output_type": "display_data"
    }
   ],
   "source": [
    "canvas = ROOT.TCanvas()\n",
    "plot = ws.obj('nsignal_gen_proc0').frame()\n",
    "fr.plotOn(plot, 'nsignal_gen_proc0', 'nsignal_gen_proc1')\n",
    "plot.Draw()\n",
    "canvas.Draw()"
   ]
  },
  {
   "cell_type": "markdown",
   "metadata": {},
   "source": [
    "## Toys"
   ]
  },
  {
   "cell_type": "code",
   "execution_count": 9,
   "metadata": {},
   "outputs": [],
   "source": [
    "# run 100 toys and save the fitted results into a ROOT file\n",
    "countingworkspace.utils.toy_study(ws, 100, seed=42)"
   ]
  },
  {
   "cell_type": "code",
   "execution_count": 10,
   "metadata": {},
   "outputs": [
    {
     "data": {
      "image/png": "[encoded data removed]",
      "text/plain": [
       "<IPython.core.display.Image object>"
      ]
     },
     "metadata": {},
     "output_type": "display_data"
    }
   ],
   "source": [
    "import ROOT\n",
    "f = ROOT.TFile.Open('result_42.root')\n",
    "tree = f.Get(\"results\")\n",
    "\n",
    "# plot the histogram fitted proc1 vs fitted proc0\n",
    "canvas = ROOT.TCanvas()\n",
    "tree.Draw(\"nsignal_gen_proc1:nsignal_gen_proc0\", \"\", \"colz\")\n",
    "canvas.Draw()"
   ]
  },
  {
   "cell_type": "code",
   "execution_count": 11,
   "metadata": {},
   "outputs": [
    {
     "data": {
      "image/png": "[encoded data removed]",
      "text/plain": [
       "<IPython.core.display.Image object>"
      ]
     },
     "metadata": {},
     "output_type": "display_data"
    }
   ],
   "source": [
    "# plot the pulls for proc0\n",
    "canvas = ROOT.TCanvas()\n",
    "tree.Draw(\"(nsignal_gen_proc0 - {}) / nsignal_gen_proc0_error\".format(NTRUE[0]))\n",
    "canvas.Draw()"
   ]
  },
  {
   "cell_type": "code",
   "execution_count": null,
   "metadata": {},
   "outputs": [],
   "source": []
  }
 ],
 "metadata": {
  "kernelspec": {
   "display_name": "Python 2",
   "language": "python",
   "name": "python2"
  },
  "language_info": {
   "codemirror_mode": {
    "name": "ipython",
    "version": 2
   },
   "file_extension": ".py",
   "mimetype": "text/x-python",
   "name": "python",
   "nbconvert_exporter": "python",
   "pygments_lexer": "ipython2",
   "version": "2.7.15"
  }
 },
 "nbformat": 4,
 "nbformat_minor": 2
}
